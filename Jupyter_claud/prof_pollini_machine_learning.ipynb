{
 "cells": [
  {
   "cell_type": "markdown",
   "id": "c86fb33a",
   "metadata": {},
   "source": [
    "# Python da zero a machine_Learning\n",
    "\n",
    "Questo corso mostrerà da zero come approcciarsi al machine learning con [Python](https://python.org)"
   ]
  },
  {
   "cell_type": "markdown",
   "id": "0e9abfc7",
   "metadata": {},
   "source": [
    "## Sommario\n",
    "\n",
    "- Introduzione a Python"
   ]
  }
 ],
 "metadata": {
  "kernelspec": {
   "display_name": "Python 3",
   "language": "python",
   "name": "python3"
  },
  "language_info": {
   "codemirror_mode": {
    "name": "ipython",
    "version": 3
   },
   "file_extension": ".py",
   "mimetype": "text/x-python",
   "name": "python",
   "nbconvert_exporter": "python",
   "pygments_lexer": "ipython3",
   "version": "3.9.4"
  }
 },
 "nbformat": 4,
 "nbformat_minor": 5
}
